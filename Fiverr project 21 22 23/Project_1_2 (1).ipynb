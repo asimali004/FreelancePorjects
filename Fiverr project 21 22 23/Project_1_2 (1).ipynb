{
 "cells": [
  {
   "cell_type": "code",
   "execution_count": 9,
   "metadata": {
    "id": "LUb2ju1jAUxY"
   },
   "outputs": [],
   "source": [
    "import numpy as np\n",
    "import pandas as pd\n",
    "import matplotlib.pyplot as plt"
   ]
  },
  {
   "cell_type": "markdown",
   "metadata": {
    "id": "0BB47sdSC6Z6"
   },
   "source": [
    "(i) Load the .csv file into the notebook."
   ]
  },
  {
   "cell_type": "code",
   "execution_count": 10,
   "metadata": {
    "id": "4eSYQgPrAu3k"
   },
   "outputs": [],
   "source": [
    "df=pd.read_csv(\"https://raw.githubusercontent.com/DataTensor/hdb/main/resale-flat-prices.csv\")"
   ]
  },
  {
   "cell_type": "code",
   "execution_count": 11,
   "metadata": {
    "colab": {
     "base_uri": "https://localhost:8080/",
     "height": 206
    },
    "id": "Y-gNTQ49A7VU",
    "outputId": "bc498d8f-b4d5-4365-ff8d-f455c4a30ee1"
   },
   "outputs": [
    {
     "data": {
      "text/html": [
       "<div>\n",
       "<style scoped>\n",
       "    .dataframe tbody tr th:only-of-type {\n",
       "        vertical-align: middle;\n",
       "    }\n",
       "\n",
       "    .dataframe tbody tr th {\n",
       "        vertical-align: top;\n",
       "    }\n",
       "\n",
       "    .dataframe thead th {\n",
       "        text-align: right;\n",
       "    }\n",
       "</style>\n",
       "<table border=\"1\" class=\"dataframe\">\n",
       "  <thead>\n",
       "    <tr style=\"text-align: right;\">\n",
       "      <th></th>\n",
       "      <th>transaction_id</th>\n",
       "      <th>month</th>\n",
       "      <th>town</th>\n",
       "      <th>flat_type</th>\n",
       "      <th>block</th>\n",
       "      <th>street_name</th>\n",
       "      <th>storey_range</th>\n",
       "      <th>floor_area_sqm</th>\n",
       "      <th>flat_model</th>\n",
       "      <th>lease_commence_date</th>\n",
       "      <th>resale_price</th>\n",
       "    </tr>\n",
       "  </thead>\n",
       "  <tbody>\n",
       "    <tr>\n",
       "      <th>50556</th>\n",
       "      <td>50556</td>\n",
       "      <td>2019-05</td>\n",
       "      <td>YISHUN</td>\n",
       "      <td>EXECUTIVE</td>\n",
       "      <td>356</td>\n",
       "      <td>YISHUN RING RD</td>\n",
       "      <td>01 TO 03</td>\n",
       "      <td>146.0</td>\n",
       "      <td>Maisonette</td>\n",
       "      <td>1988</td>\n",
       "      <td>510000.0</td>\n",
       "    </tr>\n",
       "    <tr>\n",
       "      <th>54806</th>\n",
       "      <td>54806</td>\n",
       "      <td>2019-08</td>\n",
       "      <td>BUKIT BATOK</td>\n",
       "      <td>5 ROOM</td>\n",
       "      <td>291B</td>\n",
       "      <td>BT BATOK ST 24</td>\n",
       "      <td>04 TO 06</td>\n",
       "      <td>121.0</td>\n",
       "      <td>Improved</td>\n",
       "      <td>1998</td>\n",
       "      <td>515000.0</td>\n",
       "    </tr>\n",
       "    <tr>\n",
       "      <th>59172</th>\n",
       "      <td>59172</td>\n",
       "      <td>2019-10</td>\n",
       "      <td>JURONG WEST</td>\n",
       "      <td>3 ROOM</td>\n",
       "      <td>185</td>\n",
       "      <td>BOON LAY AVE</td>\n",
       "      <td>19 TO 21</td>\n",
       "      <td>59.0</td>\n",
       "      <td>Improved</td>\n",
       "      <td>1975</td>\n",
       "      <td>208000.0</td>\n",
       "    </tr>\n",
       "  </tbody>\n",
       "</table>\n",
       "</div>"
      ],
      "text/plain": [
       "       transaction_id    month         town  flat_type block     street_name  \\\n",
       "50556           50556  2019-05       YISHUN  EXECUTIVE   356  YISHUN RING RD   \n",
       "54806           54806  2019-08  BUKIT BATOK     5 ROOM  291B  BT BATOK ST 24   \n",
       "59172           59172  2019-10  JURONG WEST     3 ROOM   185    BOON LAY AVE   \n",
       "\n",
       "      storey_range  floor_area_sqm  flat_model  lease_commence_date  \\\n",
       "50556     01 TO 03           146.0  Maisonette                 1988   \n",
       "54806     04 TO 06           121.0    Improved                 1998   \n",
       "59172     19 TO 21            59.0    Improved                 1975   \n",
       "\n",
       "       resale_price  \n",
       "50556      510000.0  \n",
       "54806      515000.0  \n",
       "59172      208000.0  "
      ]
     },
     "execution_count": 11,
     "metadata": {},
     "output_type": "execute_result"
    }
   ],
   "source": [
    "df.sample(3)"
   ]
  },
  {
   "cell_type": "markdown",
   "metadata": {
    "id": "tLz1hA_8DGS-"
   },
   "source": [
    "(ii) Summarize the information that can be derived from the dataset, including key\n",
    "features (columns), range of values, and missing / non-useful values. All the\n",
    "information should be derived by necessary Python codes."
   ]
  },
  {
   "cell_type": "code",
   "execution_count": 12,
   "metadata": {
    "colab": {
     "base_uri": "https://localhost:8080/"
    },
    "id": "LUUdKKdXBoWh",
    "outputId": "c219cf70-2bcd-4fd1-aac4-2b643288e31a"
   },
   "outputs": [
    {
     "data": {
      "text/plain": [
       "Index(['transaction_id', 'month', 'town', 'flat_type', 'block', 'street_name',\n",
       "       'storey_range', 'floor_area_sqm', 'flat_model', 'lease_commence_date',\n",
       "       'resale_price'],\n",
       "      dtype='object')"
      ]
     },
     "execution_count": 12,
     "metadata": {},
     "output_type": "execute_result"
    }
   ],
   "source": [
    "df.columns"
   ]
  },
  {
   "cell_type": "code",
   "execution_count": 13,
   "metadata": {
    "colab": {
     "base_uri": "https://localhost:8080/",
     "height": 284
    },
    "id": "pL2nj8epDPmW",
    "outputId": "74e35ebd-26ca-4209-fe17-542c62b821b2"
   },
   "outputs": [
    {
     "data": {
      "text/html": [
       "<div>\n",
       "<style scoped>\n",
       "    .dataframe tbody tr th:only-of-type {\n",
       "        vertical-align: middle;\n",
       "    }\n",
       "\n",
       "    .dataframe tbody tr th {\n",
       "        vertical-align: top;\n",
       "    }\n",
       "\n",
       "    .dataframe thead th {\n",
       "        text-align: right;\n",
       "    }\n",
       "</style>\n",
       "<table border=\"1\" class=\"dataframe\">\n",
       "  <thead>\n",
       "    <tr style=\"text-align: right;\">\n",
       "      <th></th>\n",
       "      <th>transaction_id</th>\n",
       "      <th>floor_area_sqm</th>\n",
       "      <th>lease_commence_date</th>\n",
       "      <th>resale_price</th>\n",
       "    </tr>\n",
       "  </thead>\n",
       "  <tbody>\n",
       "    <tr>\n",
       "      <th>count</th>\n",
       "      <td>77895.000000</td>\n",
       "      <td>77895.000000</td>\n",
       "      <td>77895.000000</td>\n",
       "      <td>7.789500e+04</td>\n",
       "    </tr>\n",
       "    <tr>\n",
       "      <th>mean</th>\n",
       "      <td>38947.000000</td>\n",
       "      <td>97.612341</td>\n",
       "      <td>1994.039155</td>\n",
       "      <td>4.386677e+05</td>\n",
       "    </tr>\n",
       "    <tr>\n",
       "      <th>std</th>\n",
       "      <td>22486.493946</td>\n",
       "      <td>24.295162</td>\n",
       "      <td>12.783561</td>\n",
       "      <td>1.532126e+05</td>\n",
       "    </tr>\n",
       "    <tr>\n",
       "      <th>min</th>\n",
       "      <td>0.000000</td>\n",
       "      <td>31.000000</td>\n",
       "      <td>1966.000000</td>\n",
       "      <td>1.400000e+05</td>\n",
       "    </tr>\n",
       "    <tr>\n",
       "      <th>25%</th>\n",
       "      <td>19473.500000</td>\n",
       "      <td>82.000000</td>\n",
       "      <td>1984.000000</td>\n",
       "      <td>3.300000e+05</td>\n",
       "    </tr>\n",
       "    <tr>\n",
       "      <th>50%</th>\n",
       "      <td>38947.000000</td>\n",
       "      <td>95.000000</td>\n",
       "      <td>1994.000000</td>\n",
       "      <td>4.080000e+05</td>\n",
       "    </tr>\n",
       "    <tr>\n",
       "      <th>75%</th>\n",
       "      <td>58420.500000</td>\n",
       "      <td>113.000000</td>\n",
       "      <td>2003.000000</td>\n",
       "      <td>5.130000e+05</td>\n",
       "    </tr>\n",
       "    <tr>\n",
       "      <th>max</th>\n",
       "      <td>77894.000000</td>\n",
       "      <td>249.000000</td>\n",
       "      <td>2019.000000</td>\n",
       "      <td>1.232000e+06</td>\n",
       "    </tr>\n",
       "  </tbody>\n",
       "</table>\n",
       "</div>"
      ],
      "text/plain": [
       "       transaction_id  floor_area_sqm  lease_commence_date  resale_price\n",
       "count    77895.000000    77895.000000         77895.000000  7.789500e+04\n",
       "mean     38947.000000       97.612341          1994.039155  4.386677e+05\n",
       "std      22486.493946       24.295162            12.783561  1.532126e+05\n",
       "min          0.000000       31.000000          1966.000000  1.400000e+05\n",
       "25%      19473.500000       82.000000          1984.000000  3.300000e+05\n",
       "50%      38947.000000       95.000000          1994.000000  4.080000e+05\n",
       "75%      58420.500000      113.000000          2003.000000  5.130000e+05\n",
       "max      77894.000000      249.000000          2019.000000  1.232000e+06"
      ]
     },
     "execution_count": 13,
     "metadata": {},
     "output_type": "execute_result"
    }
   ],
   "source": [
    "df.describe()"
   ]
  },
  {
   "cell_type": "code",
   "execution_count": 14,
   "metadata": {
    "colab": {
     "base_uri": "https://localhost:8080/"
    },
    "id": "nDTEUOnRDwm9",
    "outputId": "dec7fae5-6e89-4fdb-93ab-5cfe2c00a994"
   },
   "outputs": [
    {
     "name": "stdout",
     "output_type": "stream",
     "text": [
      "<class 'pandas.core.frame.DataFrame'>\n",
      "RangeIndex: 77895 entries, 0 to 77894\n",
      "Data columns (total 11 columns):\n",
      " #   Column               Non-Null Count  Dtype  \n",
      "---  ------               --------------  -----  \n",
      " 0   transaction_id       77895 non-null  int64  \n",
      " 1   month                77895 non-null  object \n",
      " 2   town                 77895 non-null  object \n",
      " 3   flat_type            77817 non-null  object \n",
      " 4   block                77895 non-null  object \n",
      " 5   street_name          77895 non-null  object \n",
      " 6   storey_range         77739 non-null  object \n",
      " 7   floor_area_sqm       77895 non-null  float64\n",
      " 8   flat_model           77895 non-null  object \n",
      " 9   lease_commence_date  77895 non-null  int64  \n",
      " 10  resale_price         77895 non-null  float64\n",
      "dtypes: float64(2), int64(2), object(7)\n",
      "memory usage: 6.5+ MB\n"
     ]
    }
   ],
   "source": [
    "df.info()"
   ]
  },
  {
   "cell_type": "code",
   "execution_count": 15,
   "metadata": {
    "colab": {
     "base_uri": "https://localhost:8080/"
    },
    "id": "F-SDu4rGDXLF",
    "outputId": "4d2f6fce-d8e8-4889-b32d-fafe75670939"
   },
   "outputs": [
    {
     "data": {
      "text/plain": [
       "transaction_id           0\n",
       "month                    0\n",
       "town                     0\n",
       "flat_type               78\n",
       "block                    0\n",
       "street_name              0\n",
       "storey_range           156\n",
       "floor_area_sqm           0\n",
       "flat_model               0\n",
       "lease_commence_date      0\n",
       "resale_price             0\n",
       "dtype: int64"
      ]
     },
     "execution_count": 15,
     "metadata": {},
     "output_type": "execute_result"
    }
   ],
   "source": [
    "df.isna().sum()# sum of missing values in each column"
   ]
  },
  {
   "cell_type": "code",
   "execution_count": 16,
   "metadata": {
    "colab": {
     "base_uri": "https://localhost:8080/"
    },
    "id": "QDMFH1rnD26v",
    "outputId": "6025f67c-6015-4a2d-db8d-75fb6338c731"
   },
   "outputs": [
    {
     "data": {
      "text/plain": [
       "transaction_id           int64\n",
       "month                   object\n",
       "town                    object\n",
       "flat_type               object\n",
       "block                   object\n",
       "street_name             object\n",
       "storey_range            object\n",
       "floor_area_sqm         float64\n",
       "flat_model              object\n",
       "lease_commence_date      int64\n",
       "resale_price           float64\n",
       "dtype: object"
      ]
     },
     "execution_count": 16,
     "metadata": {},
     "output_type": "execute_result"
    }
   ],
   "source": [
    "df.dtypes"
   ]
  },
  {
   "cell_type": "code",
   "execution_count": 17,
   "metadata": {
    "colab": {
     "base_uri": "https://localhost:8080/"
    },
    "id": "a2MmluqKFgAa",
    "outputId": "ccac2d35-31d9-4588-beeb-a00bc79380b1"
   },
   "outputs": [
    {
     "data": {
      "text/plain": [
       "(77895, 11)"
      ]
     },
     "execution_count": 17,
     "metadata": {},
     "output_type": "execute_result"
    }
   ],
   "source": [
    "df.shape"
   ]
  },
  {
   "cell_type": "markdown",
   "metadata": {
    "id": "cByXfYSHDtu1"
   },
   "source": [
    "(iii) Explain TWO (2) potential insights that can be derived from the dataset."
   ]
  },
  {
   "cell_type": "code",
   "execution_count": 18,
   "metadata": {
    "colab": {
     "base_uri": "https://localhost:8080/",
     "height": 297
    },
    "id": "8YssVZBmDdQ6",
    "outputId": "7830eddb-0cd5-476a-87d7-6cadabdb7304"
   },
   "outputs": [
    {
     "data": {
      "text/plain": [
       "<AxesSubplot:xlabel='lease_commence_date'>"
      ]
     },
     "execution_count": 18,
     "metadata": {},
     "output_type": "execute_result"
    },
    {
     "data": {
      "image/png": "[encoded data removed]",
      "text/plain": [
       "<Figure size 432x288 with 1 Axes>"
      ]
     },
     "metadata": {
      "needs_background": "light"
     },
     "output_type": "display_data"
    }
   ],
   "source": [
    "df.groupby(\"lease_commence_date\").mean()[\"resale_price\"].plot()"
   ]
  },
  {
   "cell_type": "code",
   "execution_count": 19,
   "metadata": {
    "colab": {
     "base_uri": "https://localhost:8080/"
    },
    "id": "yOZewdqqEwQH",
    "outputId": "6e3bccce-8742-4219-8af2-f68a24a3f0d0"
   },
   "outputs": [
    {
     "data": {
      "text/plain": [
       "flat_model\n",
       "2-room                    2.295000e+05\n",
       "Adjoined flat             6.745290e+05\n",
       "Apartment                 6.087442e+05\n",
       "DBSS                      7.638527e+05\n",
       "Improved                  4.502800e+05\n",
       "Improved-Maisonette       6.804920e+05\n",
       "Maisonette                6.704365e+05\n",
       "Model A                   4.223038e+05\n",
       "Model A-Maisonette        7.004836e+05\n",
       "Model A2                  3.424281e+05\n",
       "Multi Generation          8.035586e+05\n",
       "New Generation            3.294380e+05\n",
       "Premium Apartment         4.615875e+05\n",
       "Premium Apartment Loft    8.775277e+05\n",
       "Premium Maisonette        7.465000e+05\n",
       "Simplified                3.390103e+05\n",
       "Standard                  3.927329e+05\n",
       "Terrace                   8.075762e+05\n",
       "Type S1                   9.252694e+05\n",
       "Type S2                   1.027543e+06\n",
       "Name: resale_price, dtype: float64"
      ]
     },
     "execution_count": 19,
     "metadata": {},
     "output_type": "execute_result"
    }
   ],
   "source": [
    "df.groupby(\"flat_model\").mean()[\"resale_price\"]"
   ]
  },
  {
   "cell_type": "markdown",
   "metadata": {
    "id": "s8rwXpSxFUZf"
   },
   "source": [
    "(i) Refer to Q1(a)(ii), remove all the data rows with missing data values."
   ]
  },
  {
   "cell_type": "code",
   "execution_count": 20,
   "metadata": {
    "colab": {
     "base_uri": "https://localhost:8080/"
    },
    "id": "cMc35CeQFGFo",
    "outputId": "9f99df08-e410-4637-8df4-bed97cda234c"
   },
   "outputs": [
    {
     "data": {
      "text/plain": [
       "(77661, 11)"
      ]
     },
     "execution_count": 20,
     "metadata": {},
     "output_type": "execute_result"
    }
   ],
   "source": [
    "df.dropna(inplace=True)\n",
    "df.shape"
   ]
  },
  {
   "cell_type": "markdown",
   "metadata": {
    "id": "f7YC7ZRNFpAX"
   },
   "source": [
    "(ii) In Singapore, HDB flats have a 99 years’ leasehold. Compute the remaining\n",
    "lease in years for each transacted flat on its transacted date."
   ]
  },
  {
   "cell_type": "code",
   "execution_count": 21,
   "metadata": {
    "id": "3josDrleFaun"
   },
   "outputs": [],
   "source": [
    "remaining_lease_in_years = 99-(2021-df[\"lease_commence_date\"])"
   ]
  },
  {
   "cell_type": "code",
   "execution_count": 22,
   "metadata": {
    "colab": {
     "base_uri": "https://localhost:8080/"
    },
    "id": "RJT0IrkQJ0Sj",
    "outputId": "6858354c-da56-475b-f2df-de02d0913a0b"
   },
   "outputs": [
    {
     "data": {
      "text/plain": [
       "0        57\n",
       "1        56\n",
       "2        58\n",
       "3        58\n",
       "4        58\n",
       "         ..\n",
       "77889    63\n",
       "77890    65\n",
       "77891    65\n",
       "77892    64\n",
       "77894    65\n",
       "Name: lease_commence_date, Length: 77661, dtype: int64"
      ]
     },
     "execution_count": 22,
     "metadata": {},
     "output_type": "execute_result"
    }
   ],
   "source": [
    "remaining_lease_in_years"
   ]
  },
  {
   "cell_type": "code",
   "execution_count": 23,
   "metadata": {
    "id": "Z-DMD6obKADM"
   },
   "outputs": [],
   "source": [
    "df[\"remaining_lease_in_years\"] = remaining_lease_in_years"
   ]
  },
  {
   "cell_type": "markdown",
   "metadata": {
    "id": "AlrlnXCcMdbj"
   },
   "source": [
    "(iii) List out the top ten of remaining lease in years (computed by Q1(b)(ii) having\n",
    "the greatest number of transacted flats."
   ]
  },
  {
   "cell_type": "code",
   "execution_count": 24,
   "metadata": {
    "colab": {
     "base_uri": "https://localhost:8080/"
    },
    "id": "Jw-SB_feKRmo",
    "outputId": "d624df99-d762-491a-e1a6-17f12bd30569"
   },
   "outputs": [
    {
     "data": {
      "text/plain": [
       "Int64Index([63, 93, 62, 66, 91, 79, 75, 65, 76, 81], dtype='int64', name='remaining_lease_in_years')"
      ]
     },
     "execution_count": 24,
     "metadata": {},
     "output_type": "execute_result"
    }
   ],
   "source": [
    "df.groupby(\"remaining_lease_in_years\").count().sort_values(by=\"street_name\",ascending=False).head(10).index"
   ]
  },
  {
   "cell_type": "code",
   "execution_count": 25,
   "metadata": {
    "id": "65F7YznhLW9C"
   },
   "outputs": [],
   "source": [
    "df.to_csv(\"Cleaned.csv\")"
   ]
  },
  {
   "cell_type": "code",
   "execution_count": 26,
   "metadata": {
    "colab": {
     "base_uri": "https://localhost:8080/",
     "height": 147
    },
    "id": "LyCcBAtW93OX",
    "outputId": "fbe24716-2ebf-4fb0-e459-c88b99ab0215"
   },
   "outputs": [
    {
     "data": {
      "text/html": [
       "<div>\n",
       "<style scoped>\n",
       "    .dataframe tbody tr th:only-of-type {\n",
       "        vertical-align: middle;\n",
       "    }\n",
       "\n",
       "    .dataframe tbody tr th {\n",
       "        vertical-align: top;\n",
       "    }\n",
       "\n",
       "    .dataframe thead th {\n",
       "        text-align: right;\n",
       "    }\n",
       "</style>\n",
       "<table border=\"1\" class=\"dataframe\">\n",
       "  <thead>\n",
       "    <tr style=\"text-align: right;\">\n",
       "      <th></th>\n",
       "      <th>transaction_id</th>\n",
       "      <th>month</th>\n",
       "      <th>town</th>\n",
       "      <th>flat_type</th>\n",
       "      <th>block</th>\n",
       "      <th>street_name</th>\n",
       "      <th>storey_range</th>\n",
       "      <th>floor_area_sqm</th>\n",
       "      <th>flat_model</th>\n",
       "      <th>lease_commence_date</th>\n",
       "      <th>resale_price</th>\n",
       "      <th>remaining_lease_in_years</th>\n",
       "    </tr>\n",
       "  </thead>\n",
       "  <tbody>\n",
       "    <tr>\n",
       "      <th>0</th>\n",
       "      <td>0</td>\n",
       "      <td>2017-01</td>\n",
       "      <td>ANG MO KIO</td>\n",
       "      <td>2 ROOM</td>\n",
       "      <td>406</td>\n",
       "      <td>ANG MO KIO AVE 10</td>\n",
       "      <td>10 TO 12</td>\n",
       "      <td>44.0</td>\n",
       "      <td>Improved</td>\n",
       "      <td>1979</td>\n",
       "      <td>232000.0</td>\n",
       "      <td>57</td>\n",
       "    </tr>\n",
       "  </tbody>\n",
       "</table>\n",
       "</div>"
      ],
      "text/plain": [
       "   transaction_id    month        town flat_type block        street_name  \\\n",
       "0               0  2017-01  ANG MO KIO    2 ROOM   406  ANG MO KIO AVE 10   \n",
       "\n",
       "  storey_range  floor_area_sqm flat_model  lease_commence_date  resale_price  \\\n",
       "0     10 TO 12            44.0   Improved                 1979      232000.0   \n",
       "\n",
       "   remaining_lease_in_years  \n",
       "0                        57  "
      ]
     },
     "execution_count": 26,
     "metadata": {},
     "output_type": "execute_result"
    }
   ],
   "source": [
    "df.head(1)"
   ]
  },
  {
   "cell_type": "markdown",
   "metadata": {
    "id": "fnJJtXSnkxTU"
   },
   "source": [
    "(a) Design and apply a Python ORM(s) (Object Relational Mapping) to store the CSV file\n",
    "obtained in Q1(c). Please specify a table class before inserting the values into the\n",
    "database."
   ]
  },
  {
   "cell_type": "code",
   "execution_count": 63,
   "metadata": {
    "id": "jbpHas7jM7C3"
   },
   "outputs": [],
   "source": [
    "from sqlalchemy import Column, Integer, Float, Date, String\n",
    "from sqlalchemy.ext.declarative import declarative_base\n",
    "from sqlalchemy import create_engine\n",
    "from sqlalchemy.orm import sessionmaker\n",
    "\n",
    "Base = declarative_base()\n",
    "#Create the database\n",
    "\n",
    "class Resale_Flat_Prices(Base):\n",
    "    __tablename__ = 'Resale_Flat_Prices'\n",
    "    #tell SQLAlchemy the name of column and its attributes:\n",
    "    transaction_id = Column(Integer,primary_key=True) \n",
    "    month = Column(Date)\n",
    "    town = Column(String)\n",
    "    flat_type = Column(String)\n",
    "    block = Column(String)\n",
    "    street_name = Column(String)\n",
    "    storey_range = Column(String)\n",
    "    floor_area_sqm = Column(Float)\n",
    "    flat_model = Column(String)\n",
    "    lease_commence_date = Column(Integer)\n",
    "    resale_price = Column(Float)\n",
    "\n"
   ]
  },
  {
   "cell_type": "code",
   "execution_count": 64,
   "metadata": {
    "id": "VAMVbS6g77R8"
   },
   "outputs": [],
   "source": [
    "engine = create_engine('sqlite:///csv_test.db')\n",
    "Base.metadata.drop_all(engine)\n",
    "Base.metadata.create_all(engine)\n",
    "# Base.metadata\n",
    "\n",
    "data = pd.read_csv(\"Cleaned.csv\")\n",
    "data = data.values.tolist()\n",
    "# Create the session\n",
    "session = sessionmaker(bind=engine)\n",
    "s = session()\n",
    "\n",
    "for i in data[:10]:\n",
    "    record = Resale_Flat_Prices(**{\"transaction_id\" : i[1],\n",
    "        \"month\" : pd.to_datetime(i[2]), \"town\" : i[3], \"flat_type\" : i[4], \"block\" : i[5],\n",
    "        'street_name' : i[6],\"storey_range\" : i[7],\"floor_area_sqm\" : i[8],\"flat_model\" : i[9],\"lease_commence_date\" : i[10],\"resale_price\" : i[11]})\n",
    "    s.add(record) #Add all the records\n",
    "    s.commit() #Attempt to commit all the records\n",
    "s.close() #Close the connection\n",
    "# len(data)"
   ]
  },
  {
   "cell_type": "markdown",
   "metadata": {
    "id": "ADWntaLIk2_g"
   },
   "source": [
    "(b) Compose queries on the database and answer the following questions:\n",
    "(i) What is the total number of transactions for each month?\n",
    "(ii) Sort the data by town and the number of resale transactions in descending order.\n",
    "(iii) For resales transacted on and after Jan 2019 and storey range being level 10\n",
    "and above, what are the top three towns having the greatest number of\n",
    "transactions?"
   ]
  },
  {
   "cell_type": "code",
   "execution_count": 65,
   "metadata": {
    "id": "OiLjbtg9Cm3o"
   },
   "outputs": [],
   "source": [
    "data = s.query(Resale_Flat_Prices)"
   ]
  },
  {
   "cell_type": "code",
   "execution_count": 66,
   "metadata": {
    "colab": {
     "base_uri": "https://localhost:8080/"
    },
    "id": "RZrbt_gIlmJL",
    "outputId": "521b9067-8692-464c-cc49-e1665f1305e4"
   },
   "outputs": [
    {
     "name": "stdout",
     "output_type": "stream",
     "text": [
      "2017-01-01 10\n"
     ]
    }
   ],
   "source": [
    "date=[]\n",
    "for a in data:\n",
    "    date.append(a.month)\n",
    "uni = list(dict.fromkeys(date))\n",
    "for a in uni:\n",
    "    co=date.count(a)\n",
    "    print(a,co)"
   ]
  },
  {
   "cell_type": "code",
   "execution_count": 248,
   "metadata": {
    "id": "f346JJ7KPg5p"
   },
   "outputs": [],
   "source": [
    "data1 = s.query(Resale_Flat_Prices).order_by(Resale_Flat_Prices.town)\n",
    "#for a in data1:\n",
    "#  print(a.town)"
   ]
  },
  {
   "cell_type": "code",
   "execution_count": 253,
   "metadata": {
    "id": "X6lRuB9ZQ_95"
   },
   "outputs": [],
   "source": [
    "data2 = s.query(Resale_Flat_Prices).order_by(Resale_Flat_Prices.resale_price)\n",
    "data2 = data2[::-1]\n",
    "#for a in data2:\n",
    "#  print(a.resale_price)"
   ]
  },
  {
   "cell_type": "code",
   "execution_count": 255,
   "metadata": {
    "id": "1m2O0mtITBY2"
   },
   "outputs": [],
   "source": [
    "data3 = s.query(Resale_Flat_Prices).filter(Resale_Flat_Prices.month>=pd.to_datetime(\"2019-01\"))"
   ]
  },
  {
   "cell_type": "code",
   "execution_count": 256,
   "metadata": {
    "id": "w-rq2NupTpki"
   },
   "outputs": [],
   "source": [
    "data4 = []\n",
    "for a in data3:\n",
    "    b=a.storey_range.split(\" \")\n",
    "    if int(b[0])>=10:\n",
    "        data4.append(a)"
   ]
  },
  {
   "cell_type": "code",
   "execution_count": 263,
   "metadata": {
    "colab": {
     "base_uri": "https://localhost:8080/"
    },
    "id": "pbvvyDswT9Ny",
    "outputId": "46f522b0-15ed-4b5f-f852-f3fa33dfb2b8"
   },
   "outputs": [
    {
     "data": {
      "text/plain": [
       "[('SENGKANG', 1605), ('PUNGGOL', 1065), ('JURONG WEST', 883)]"
      ]
     },
     "execution_count": 263,
     "metadata": {
      "tags": []
     },
     "output_type": "execute_result"
    }
   ],
   "source": [
    "towns = []\n",
    "for a in data4:\n",
    "    towns.append(a.town)\n",
    "uni = list(dict.fromkeys(towns))\n",
    "town_transaction = {}\n",
    "for b in uni:\n",
    "    co = towns.count(b)\n",
    "    town_transaction[b] = co\n",
    "a=sorted(town_transaction.items(), key=lambda x: x[1], reverse=True)\n",
    "a[0:3]"
   ]
  },
  {
   "cell_type": "markdown",
   "metadata": {
    "id": "eW6chSMYlm_n"
   },
   "source": [
    "(a) Load the CSV file obtained from Q1(c) to a Pandas dataframe and derive the answers\n",
    "for the same three questions in Q2(b)"
   ]
  },
  {
   "cell_type": "code",
   "execution_count": 91,
   "metadata": {
    "id": "bf-twpaylt9J"
   },
   "outputs": [],
   "source": [
    "df=pd.read_csv(\"Cleaned.csv\")"
   ]
  },
  {
   "cell_type": "code",
   "execution_count": 93,
   "metadata": {
    "colab": {
     "base_uri": "https://localhost:8080/"
    },
    "id": "afR5B4WIlzo9",
    "outputId": "bc129182-a9d5-4e57-c9ed-2186e64988bf"
   },
   "outputs": [
    {
     "data": {
      "text/plain": [
       "2018-07    2529\n",
       "2020-07    2456\n",
       "2020-06    2432\n",
       "2020-08    2424\n",
       "2019-10    2203\n",
       "2019-07    2106\n",
       "2019-05    2065\n",
       "2018-08    2061\n",
       "2018-10    1982\n",
       "2018-09    1977\n",
       "2017-11    1975\n",
       "2017-05    1975\n",
       "2018-06    1970\n",
       "2017-08    1958\n",
       "2020-03    1936\n",
       "2019-04    1913\n",
       "2020-01    1906\n",
       "2019-11    1900\n",
       "2017-03    1896\n",
       "2019-08    1896\n",
       "2019-06    1880\n",
       "2018-03    1877\n",
       "2018-11    1862\n",
       "2019-12    1842\n",
       "2017-04    1836\n",
       "2018-04    1833\n",
       "2019-09    1821\n",
       "2017-10    1779\n",
       "2017-07    1777\n",
       "2017-06    1742\n",
       "2018-05    1736\n",
       "2017-09    1672\n",
       "2020-02    1658\n",
       "2019-03    1648\n",
       "2017-12    1580\n",
       "2019-01    1539\n",
       "2018-12    1419\n",
       "2019-02    1301\n",
       "2018-02    1181\n",
       "2017-01    1181\n",
       "2017-02    1083\n",
       "2018-01    1070\n",
       "2020-04     422\n",
       "2020-05     362\n",
       "Name: month, dtype: int64"
      ]
     },
     "execution_count": 93,
     "metadata": {
      "tags": []
     },
     "output_type": "execute_result"
    }
   ],
   "source": [
    "df.month.value_counts()"
   ]
  },
  {
   "cell_type": "code",
   "execution_count": 96,
   "metadata": {
    "colab": {
     "base_uri": "https://localhost:8080/",
     "height": 606
    },
    "id": "j29J-WNZmNwP",
    "outputId": "83ce8312-ef28-41b0-df8a-67139ae0d075"
   },
   "outputs": [
    {
     "data": {
      "text/html": [
       "<div>\n",
       "<style scoped>\n",
       "    .dataframe tbody tr th:only-of-type {\n",
       "        vertical-align: middle;\n",
       "    }\n",
       "\n",
       "    .dataframe tbody tr th {\n",
       "        vertical-align: top;\n",
       "    }\n",
       "\n",
       "    .dataframe thead th {\n",
       "        text-align: right;\n",
       "    }\n",
       "</style>\n",
       "<table border=\"1\" class=\"dataframe\">\n",
       "  <thead>\n",
       "    <tr style=\"text-align: right;\">\n",
       "      <th></th>\n",
       "      <th>Unnamed: 0</th>\n",
       "      <th>transaction_id</th>\n",
       "      <th>month</th>\n",
       "      <th>town</th>\n",
       "      <th>flat_type</th>\n",
       "      <th>block</th>\n",
       "      <th>street_name</th>\n",
       "      <th>storey_range</th>\n",
       "      <th>floor_area_sqm</th>\n",
       "      <th>flat_model</th>\n",
       "      <th>lease_commence_date</th>\n",
       "      <th>resale_price</th>\n",
       "      <th>remaining_lease_in_years</th>\n",
       "    </tr>\n",
       "  </thead>\n",
       "  <tbody>\n",
       "    <tr>\n",
       "      <th>38668</th>\n",
       "      <td>38779</td>\n",
       "      <td>38779</td>\n",
       "      <td>2018-10</td>\n",
       "      <td>YISHUN</td>\n",
       "      <td>MULTI-GENERATION</td>\n",
       "      <td>666</td>\n",
       "      <td>YISHUN AVE 4</td>\n",
       "      <td>07 TO 09</td>\n",
       "      <td>179.0</td>\n",
       "      <td>Multi Generation</td>\n",
       "      <td>1987</td>\n",
       "      <td>868000.0</td>\n",
       "      <td>65</td>\n",
       "    </tr>\n",
       "    <tr>\n",
       "      <th>44790</th>\n",
       "      <td>44923</td>\n",
       "      <td>44923</td>\n",
       "      <td>2019-02</td>\n",
       "      <td>YISHUN</td>\n",
       "      <td>MULTI-GENERATION</td>\n",
       "      <td>666</td>\n",
       "      <td>YISHUN AVE 4</td>\n",
       "      <td>04 TO 06</td>\n",
       "      <td>179.0</td>\n",
       "      <td>Multi Generation</td>\n",
       "      <td>1987</td>\n",
       "      <td>840000.0</td>\n",
       "      <td>65</td>\n",
       "    </tr>\n",
       "    <tr>\n",
       "      <th>36687</th>\n",
       "      <td>36788</td>\n",
       "      <td>36788</td>\n",
       "      <td>2018-09</td>\n",
       "      <td>YISHUN</td>\n",
       "      <td>MULTI-GENERATION</td>\n",
       "      <td>666</td>\n",
       "      <td>YISHUN AVE 4</td>\n",
       "      <td>10 TO 12</td>\n",
       "      <td>179.0</td>\n",
       "      <td>Multi Generation</td>\n",
       "      <td>1987</td>\n",
       "      <td>825000.0</td>\n",
       "      <td>65</td>\n",
       "    </tr>\n",
       "    <tr>\n",
       "      <th>52296</th>\n",
       "      <td>52445</td>\n",
       "      <td>52445</td>\n",
       "      <td>2019-06</td>\n",
       "      <td>YISHUN</td>\n",
       "      <td>MULTI-GENERATION</td>\n",
       "      <td>633</td>\n",
       "      <td>YISHUN ST 61</td>\n",
       "      <td>04 TO 06</td>\n",
       "      <td>171.0</td>\n",
       "      <td>Multi Generation</td>\n",
       "      <td>1987</td>\n",
       "      <td>798888.0</td>\n",
       "      <td>65</td>\n",
       "    </tr>\n",
       "    <tr>\n",
       "      <th>56297</th>\n",
       "      <td>56460</td>\n",
       "      <td>56460</td>\n",
       "      <td>2019-08</td>\n",
       "      <td>YISHUN</td>\n",
       "      <td>MULTI-GENERATION</td>\n",
       "      <td>666</td>\n",
       "      <td>YISHUN AVE 4</td>\n",
       "      <td>04 TO 06</td>\n",
       "      <td>179.0</td>\n",
       "      <td>Multi Generation</td>\n",
       "      <td>1987</td>\n",
       "      <td>788888.0</td>\n",
       "      <td>65</td>\n",
       "    </tr>\n",
       "    <tr>\n",
       "      <th>...</th>\n",
       "      <td>...</td>\n",
       "      <td>...</td>\n",
       "      <td>...</td>\n",
       "      <td>...</td>\n",
       "      <td>...</td>\n",
       "      <td>...</td>\n",
       "      <td>...</td>\n",
       "      <td>...</td>\n",
       "      <td>...</td>\n",
       "      <td>...</td>\n",
       "      <td>...</td>\n",
       "      <td>...</td>\n",
       "      <td>...</td>\n",
       "    </tr>\n",
       "    <tr>\n",
       "      <th>58121</th>\n",
       "      <td>58293</td>\n",
       "      <td>58293</td>\n",
       "      <td>2019-10</td>\n",
       "      <td>ANG MO KIO</td>\n",
       "      <td>2 ROOM</td>\n",
       "      <td>314</td>\n",
       "      <td>ANG MO KIO AVE 3</td>\n",
       "      <td>10 TO 12</td>\n",
       "      <td>44.0</td>\n",
       "      <td>Improved</td>\n",
       "      <td>1978</td>\n",
       "      <td>186000.0</td>\n",
       "      <td>56</td>\n",
       "    </tr>\n",
       "    <tr>\n",
       "      <th>36689</th>\n",
       "      <td>36790</td>\n",
       "      <td>36790</td>\n",
       "      <td>2018-10</td>\n",
       "      <td>ANG MO KIO</td>\n",
       "      <td>2 ROOM</td>\n",
       "      <td>116</td>\n",
       "      <td>ANG MO KIO AVE 4</td>\n",
       "      <td>01 TO 03</td>\n",
       "      <td>44.0</td>\n",
       "      <td>Improved</td>\n",
       "      <td>1978</td>\n",
       "      <td>185000.0</td>\n",
       "      <td>56</td>\n",
       "    </tr>\n",
       "    <tr>\n",
       "      <th>54403</th>\n",
       "      <td>54560</td>\n",
       "      <td>54560</td>\n",
       "      <td>2019-08</td>\n",
       "      <td>ANG MO KIO</td>\n",
       "      <td>2 ROOM</td>\n",
       "      <td>323</td>\n",
       "      <td>ANG MO KIO AVE 3</td>\n",
       "      <td>04 TO 06</td>\n",
       "      <td>44.0</td>\n",
       "      <td>Improved</td>\n",
       "      <td>1977</td>\n",
       "      <td>185000.0</td>\n",
       "      <td>55</td>\n",
       "    </tr>\n",
       "    <tr>\n",
       "      <th>56299</th>\n",
       "      <td>56462</td>\n",
       "      <td>56462</td>\n",
       "      <td>2019-09</td>\n",
       "      <td>ANG MO KIO</td>\n",
       "      <td>2 ROOM</td>\n",
       "      <td>172</td>\n",
       "      <td>ANG MO KIO AVE 4</td>\n",
       "      <td>04 TO 06</td>\n",
       "      <td>45.0</td>\n",
       "      <td>Improved</td>\n",
       "      <td>1986</td>\n",
       "      <td>178000.0</td>\n",
       "      <td>64</td>\n",
       "    </tr>\n",
       "    <tr>\n",
       "      <th>72837</th>\n",
       "      <td>73051</td>\n",
       "      <td>73051</td>\n",
       "      <td>2020-07</td>\n",
       "      <td>ANG MO KIO</td>\n",
       "      <td>3 ROOM</td>\n",
       "      <td>507</td>\n",
       "      <td>ANG MO KIO AVE 8</td>\n",
       "      <td>10 TO 12</td>\n",
       "      <td>67.0</td>\n",
       "      <td>New Generation</td>\n",
       "      <td>1980</td>\n",
       "      <td>174000.0</td>\n",
       "      <td>58</td>\n",
       "    </tr>\n",
       "  </tbody>\n",
       "</table>\n",
       "<p>77661 rows × 13 columns</p>\n",
       "</div>"
      ],
      "text/plain": [
       "       Unnamed: 0  transaction_id  ... resale_price remaining_lease_in_years\n",
       "38668       38779           38779  ...     868000.0                       65\n",
       "44790       44923           44923  ...     840000.0                       65\n",
       "36687       36788           36788  ...     825000.0                       65\n",
       "52296       52445           52445  ...     798888.0                       65\n",
       "56297       56460           56460  ...     788888.0                       65\n",
       "...           ...             ...  ...          ...                      ...\n",
       "58121       58293           58293  ...     186000.0                       56\n",
       "36689       36790           36790  ...     185000.0                       56\n",
       "54403       54560           54560  ...     185000.0                       55\n",
       "56299       56462           56462  ...     178000.0                       64\n",
       "72837       73051           73051  ...     174000.0                       58\n",
       "\n",
       "[77661 rows x 13 columns]"
      ]
     },
     "execution_count": 96,
     "metadata": {
      "tags": []
     },
     "output_type": "execute_result"
    }
   ],
   "source": [
    "df.sort_values(by=[\"town\",\"resale_price\"],ascending=False)"
   ]
  },
  {
   "cell_type": "code",
   "execution_count": 113,
   "metadata": {
    "colab": {
     "base_uri": "https://localhost:8080/",
     "height": 606
    },
    "id": "wdTFI5nPmjL3",
    "outputId": "bbbcd952-ad92-4066-b44c-737494c98b91"
   },
   "outputs": [
    {
     "data": {
      "text/html": [
       "<div>\n",
       "<style scoped>\n",
       "    .dataframe tbody tr th:only-of-type {\n",
       "        vertical-align: middle;\n",
       "    }\n",
       "\n",
       "    .dataframe tbody tr th {\n",
       "        vertical-align: top;\n",
       "    }\n",
       "\n",
       "    .dataframe thead th {\n",
       "        text-align: right;\n",
       "    }\n",
       "</style>\n",
       "<table border=\"1\" class=\"dataframe\">\n",
       "  <thead>\n",
       "    <tr style=\"text-align: right;\">\n",
       "      <th></th>\n",
       "      <th>Unnamed: 0</th>\n",
       "      <th>transaction_id</th>\n",
       "      <th>month</th>\n",
       "      <th>town</th>\n",
       "      <th>flat_type</th>\n",
       "      <th>block</th>\n",
       "      <th>street_name</th>\n",
       "      <th>storey_range</th>\n",
       "      <th>floor_area_sqm</th>\n",
       "      <th>flat_model</th>\n",
       "      <th>lease_commence_date</th>\n",
       "      <th>resale_price</th>\n",
       "      <th>remaining_lease_in_years</th>\n",
       "    </tr>\n",
       "  </thead>\n",
       "  <tbody>\n",
       "    <tr>\n",
       "      <th>41951</th>\n",
       "      <td>42070</td>\n",
       "      <td>42070</td>\n",
       "      <td>2019-01-01</td>\n",
       "      <td>ANG MO KIO</td>\n",
       "      <td>3 ROOM</td>\n",
       "      <td>330</td>\n",
       "      <td>ANG MO KIO AVE 1</td>\n",
       "      <td>01 TO 03</td>\n",
       "      <td>68.0</td>\n",
       "      <td>New Generation</td>\n",
       "      <td>1981</td>\n",
       "      <td>270000.0</td>\n",
       "      <td>59</td>\n",
       "    </tr>\n",
       "    <tr>\n",
       "      <th>41952</th>\n",
       "      <td>42071</td>\n",
       "      <td>42071</td>\n",
       "      <td>2019-01-01</td>\n",
       "      <td>ANG MO KIO</td>\n",
       "      <td>3 ROOM</td>\n",
       "      <td>215</td>\n",
       "      <td>ANG MO KIO AVE 1</td>\n",
       "      <td>04 TO 06</td>\n",
       "      <td>73.0</td>\n",
       "      <td>New Generation</td>\n",
       "      <td>1976</td>\n",
       "      <td>295000.0</td>\n",
       "      <td>54</td>\n",
       "    </tr>\n",
       "    <tr>\n",
       "      <th>41953</th>\n",
       "      <td>42072</td>\n",
       "      <td>42072</td>\n",
       "      <td>2019-01-01</td>\n",
       "      <td>ANG MO KIO</td>\n",
       "      <td>3 ROOM</td>\n",
       "      <td>225</td>\n",
       "      <td>ANG MO KIO AVE 1</td>\n",
       "      <td>07 TO 09</td>\n",
       "      <td>67.0</td>\n",
       "      <td>New Generation</td>\n",
       "      <td>1978</td>\n",
       "      <td>270000.0</td>\n",
       "      <td>56</td>\n",
       "    </tr>\n",
       "    <tr>\n",
       "      <th>41954</th>\n",
       "      <td>42073</td>\n",
       "      <td>42073</td>\n",
       "      <td>2019-01-01</td>\n",
       "      <td>ANG MO KIO</td>\n",
       "      <td>3 ROOM</td>\n",
       "      <td>225</td>\n",
       "      <td>ANG MO KIO AVE 1</td>\n",
       "      <td>01 TO 03</td>\n",
       "      <td>67.0</td>\n",
       "      <td>New Generation</td>\n",
       "      <td>1978</td>\n",
       "      <td>230000.0</td>\n",
       "      <td>56</td>\n",
       "    </tr>\n",
       "    <tr>\n",
       "      <th>41955</th>\n",
       "      <td>42074</td>\n",
       "      <td>42074</td>\n",
       "      <td>2019-01-01</td>\n",
       "      <td>ANG MO KIO</td>\n",
       "      <td>3 ROOM</td>\n",
       "      <td>333</td>\n",
       "      <td>ANG MO KIO AVE 1</td>\n",
       "      <td>01 TO 03</td>\n",
       "      <td>68.0</td>\n",
       "      <td>New Generation</td>\n",
       "      <td>1981</td>\n",
       "      <td>262500.0</td>\n",
       "      <td>59</td>\n",
       "    </tr>\n",
       "    <tr>\n",
       "      <th>...</th>\n",
       "      <td>...</td>\n",
       "      <td>...</td>\n",
       "      <td>...</td>\n",
       "      <td>...</td>\n",
       "      <td>...</td>\n",
       "      <td>...</td>\n",
       "      <td>...</td>\n",
       "      <td>...</td>\n",
       "      <td>...</td>\n",
       "      <td>...</td>\n",
       "      <td>...</td>\n",
       "      <td>...</td>\n",
       "      <td>...</td>\n",
       "    </tr>\n",
       "    <tr>\n",
       "      <th>77656</th>\n",
       "      <td>77889</td>\n",
       "      <td>77889</td>\n",
       "      <td>2020-08-01</td>\n",
       "      <td>YISHUN</td>\n",
       "      <td>EXECUTIVE</td>\n",
       "      <td>258</td>\n",
       "      <td>YISHUN ST 22</td>\n",
       "      <td>01 TO 03</td>\n",
       "      <td>154.0</td>\n",
       "      <td>Maisonette</td>\n",
       "      <td>1985</td>\n",
       "      <td>530000.0</td>\n",
       "      <td>63</td>\n",
       "    </tr>\n",
       "    <tr>\n",
       "      <th>77657</th>\n",
       "      <td>77890</td>\n",
       "      <td>77890</td>\n",
       "      <td>2020-08-01</td>\n",
       "      <td>YISHUN</td>\n",
       "      <td>EXECUTIVE</td>\n",
       "      <td>611</td>\n",
       "      <td>YISHUN ST 61</td>\n",
       "      <td>04 TO 06</td>\n",
       "      <td>146.0</td>\n",
       "      <td>Maisonette</td>\n",
       "      <td>1987</td>\n",
       "      <td>598000.0</td>\n",
       "      <td>65</td>\n",
       "    </tr>\n",
       "    <tr>\n",
       "      <th>77658</th>\n",
       "      <td>77891</td>\n",
       "      <td>77891</td>\n",
       "      <td>2020-08-01</td>\n",
       "      <td>YISHUN</td>\n",
       "      <td>EXECUTIVE</td>\n",
       "      <td>643</td>\n",
       "      <td>YISHUN ST 61</td>\n",
       "      <td>01 TO 03</td>\n",
       "      <td>142.0</td>\n",
       "      <td>Apartment</td>\n",
       "      <td>1987</td>\n",
       "      <td>510000.0</td>\n",
       "      <td>65</td>\n",
       "    </tr>\n",
       "    <tr>\n",
       "      <th>77659</th>\n",
       "      <td>77892</td>\n",
       "      <td>77892</td>\n",
       "      <td>2020-08-01</td>\n",
       "      <td>YISHUN</td>\n",
       "      <td>EXECUTIVE</td>\n",
       "      <td>724</td>\n",
       "      <td>YISHUN ST 71</td>\n",
       "      <td>07 TO 09</td>\n",
       "      <td>142.0</td>\n",
       "      <td>Apartment</td>\n",
       "      <td>1986</td>\n",
       "      <td>555000.0</td>\n",
       "      <td>64</td>\n",
       "    </tr>\n",
       "    <tr>\n",
       "      <th>77660</th>\n",
       "      <td>77894</td>\n",
       "      <td>77894</td>\n",
       "      <td>2020-08-01</td>\n",
       "      <td>YISHUN</td>\n",
       "      <td>MULTI-GENERATION</td>\n",
       "      <td>666</td>\n",
       "      <td>YISHUN AVE 4</td>\n",
       "      <td>01 TO 03</td>\n",
       "      <td>164.0</td>\n",
       "      <td>Multi Generation</td>\n",
       "      <td>1987</td>\n",
       "      <td>725000.0</td>\n",
       "      <td>65</td>\n",
       "    </tr>\n",
       "  </tbody>\n",
       "</table>\n",
       "<p>35710 rows × 13 columns</p>\n",
       "</div>"
      ],
      "text/plain": [
       "       Unnamed: 0  transaction_id  ... resale_price remaining_lease_in_years\n",
       "41951       42070           42070  ...     270000.0                       59\n",
       "41952       42071           42071  ...     295000.0                       54\n",
       "41953       42072           42072  ...     270000.0                       56\n",
       "41954       42073           42073  ...     230000.0                       56\n",
       "41955       42074           42074  ...     262500.0                       59\n",
       "...           ...             ...  ...          ...                      ...\n",
       "77656       77889           77889  ...     530000.0                       63\n",
       "77657       77890           77890  ...     598000.0                       65\n",
       "77658       77891           77891  ...     510000.0                       65\n",
       "77659       77892           77892  ...     555000.0                       64\n",
       "77660       77894           77894  ...     725000.0                       65\n",
       "\n",
       "[35710 rows x 13 columns]"
      ]
     },
     "execution_count": 113,
     "metadata": {
      "tags": []
     },
     "output_type": "execute_result"
    }
   ],
   "source": [
    "df.month=pd.to_datetime(df.month)\n",
    "df1=df[df.month>=pd.to_datetime(\"2019-01\")]\n",
    "df1"
   ]
  },
  {
   "cell_type": "code",
   "execution_count": 110,
   "metadata": {
    "colab": {
     "base_uri": "https://localhost:8080/"
    },
    "id": "7_9N-NibndG7",
    "outputId": "2c3000d7-6f11-499a-9bcf-255e7b56f8e5"
   },
   "outputs": [
    {
     "name": "stderr",
     "output_type": "stream",
     "text": [
      "/usr/local/lib/python3.7/dist-packages/ipykernel_launcher.py:5: SettingWithCopyWarning: \n",
      "A value is trying to be set on a copy of a slice from a DataFrame.\n",
      "Try using .loc[row_indexer,col_indexer] = value instead\n",
      "\n",
      "See the caveats in the documentation: https://pandas.pydata.org/pandas-docs/stable/user_guide/indexing.html#returning-a-view-versus-a-copy\n",
      "  \"\"\"\n"
     ]
    }
   ],
   "source": [
    "list1=[]\n",
    "for a in df1.storey_range:\n",
    "    b=a.split(\" \")\n",
    "    list1.append(int(b[0]))\n",
    "df1[\"storey\"]=list1"
   ]
  },
  {
   "cell_type": "code",
   "execution_count": 111,
   "metadata": {
    "id": "xqU7eyOhntSg"
   },
   "outputs": [],
   "source": [
    "df2=df1[df1.storey>=10]"
   ]
  },
  {
   "cell_type": "code",
   "execution_count": 265,
   "metadata": {
    "colab": {
     "base_uri": "https://localhost:8080/"
    },
    "id": "rNqXFUEspwkc",
    "outputId": "69ae8826-9b52-4e4a-f89b-dbf01734488e"
   },
   "outputs": [
    {
     "data": {
      "text/plain": [
       "SENGKANG       1605\n",
       "PUNGGOL        1065\n",
       "JURONG WEST     883\n",
       "Name: town, dtype: int64"
      ]
     },
     "execution_count": 265,
     "metadata": {
      "tags": []
     },
     "output_type": "execute_result"
    }
   ],
   "source": [
    "df2.town.value_counts()[:3]"
   ]
  },
  {
   "cell_type": "markdown",
   "metadata": {
    "id": "8KsUWu2EqfNX"
   },
   "source": [
    "(i) Design a function to find the top three towns of each month with the greatest\n",
    "number of transactions."
   ]
  },
  {
   "cell_type": "code",
   "execution_count": 118,
   "metadata": {
    "id": "ZVUPPVkXpxHP"
   },
   "outputs": [],
   "source": [
    "def top_three(dataframe,date):\n",
    "    top_3=dataframe[dataframe.month==date].town.value_counts()\n",
    "    return top_3.head(3)"
   ]
  },
  {
   "cell_type": "code",
   "execution_count": 119,
   "metadata": {
    "colab": {
     "base_uri": "https://localhost:8080/"
    },
    "id": "ngT-DHXXrV73",
    "outputId": "943b7f0e-896d-4ce9-e742-5c1f3f5f446a"
   },
   "outputs": [
    {
     "name": "stdout",
     "output_type": "stream",
     "text": [
      "2017-01-01T00:00:00.000000000\n",
      "JURONG WEST    112\n",
      "WOODLANDS       83\n",
      "TAMPINES        82\n",
      "Name: town, dtype: int64\n",
      "2017-02-01T00:00:00.000000000\n",
      "SENGKANG     83\n",
      "YISHUN       82\n",
      "WOODLANDS    74\n",
      "Name: town, dtype: int64\n",
      "2017-03-01T00:00:00.000000000\n",
      "SENGKANG       146\n",
      "JURONG WEST    143\n",
      "WOODLANDS      131\n",
      "Name: town, dtype: int64\n",
      "2017-04-01T00:00:00.000000000\n",
      "JURONG WEST    142\n",
      "WOODLANDS      136\n",
      "SENGKANG       132\n",
      "Name: town, dtype: int64\n",
      "2017-05-01T00:00:00.000000000\n",
      "JURONG WEST    162\n",
      "WOODLANDS      154\n",
      "SENGKANG       153\n",
      "Name: town, dtype: int64\n",
      "2017-06-01T00:00:00.000000000\n",
      "SENGKANG       142\n",
      "JURONG WEST    130\n",
      "WOODLANDS      128\n",
      "Name: town, dtype: int64\n",
      "2017-07-01T00:00:00.000000000\n",
      "WOODLANDS      143\n",
      "SENGKANG       139\n",
      "JURONG WEST    136\n",
      "Name: town, dtype: int64\n",
      "2017-08-01T00:00:00.000000000\n",
      "JURONG WEST    158\n",
      "WOODLANDS      145\n",
      "SENGKANG       141\n",
      "Name: town, dtype: int64\n",
      "2017-09-01T00:00:00.000000000\n",
      "JURONG WEST    139\n",
      "WOODLANDS      134\n",
      "PUNGGOL        130\n",
      "Name: town, dtype: int64\n",
      "2017-10-01T00:00:00.000000000\n",
      "JURONG WEST    152\n",
      "WOODLANDS      136\n",
      "SENGKANG       129\n",
      "Name: town, dtype: int64\n",
      "2017-11-01T00:00:00.000000000\n",
      "JURONG WEST    165\n",
      "WOODLANDS      160\n",
      "PUNGGOL        141\n",
      "Name: town, dtype: int64\n",
      "2017-12-01T00:00:00.000000000\n",
      "SENGKANG       131\n",
      "PUNGGOL        125\n",
      "JURONG WEST    119\n",
      "Name: town, dtype: int64\n",
      "2018-01-01T00:00:00.000000000\n",
      "SENGKANG     82\n",
      "PUNGGOL      82\n",
      "WOODLANDS    73\n",
      "Name: town, dtype: int64\n",
      "2018-02-01T00:00:00.000000000\n",
      "JURONG WEST    94\n",
      "PUNGGOL        91\n",
      "SENGKANG       89\n",
      "Name: town, dtype: int64\n",
      "2018-03-01T00:00:00.000000000\n",
      "PUNGGOL        152\n",
      "JURONG WEST    152\n",
      "SENGKANG       139\n",
      "Name: town, dtype: int64\n",
      "2018-04-01T00:00:00.000000000\n",
      "JURONG WEST    133\n",
      "WOODLANDS      127\n",
      "TAMPINES       125\n",
      "Name: town, dtype: int64\n",
      "2018-05-01T00:00:00.000000000\n",
      "TAMPINES    152\n",
      "SENGKANG    144\n",
      "PUNGGOL     139\n",
      "Name: town, dtype: int64\n",
      "2018-06-01T00:00:00.000000000\n",
      "JURONG WEST    158\n",
      "SENGKANG       147\n",
      "WOODLANDS      144\n",
      "Name: town, dtype: int64\n",
      "2018-07-01T00:00:00.000000000\n",
      "SENGKANG       205\n",
      "WOODLANDS      197\n",
      "JURONG WEST    191\n",
      "Name: town, dtype: int64\n",
      "2018-08-01T00:00:00.000000000\n",
      "SENGKANG       177\n",
      "JURONG WEST    161\n",
      "WOODLANDS      152\n",
      "Name: town, dtype: int64\n",
      "2018-09-01T00:00:00.000000000\n",
      "WOODLANDS      163\n",
      "JURONG WEST    149\n",
      "SENGKANG       145\n",
      "Name: town, dtype: int64\n",
      "2018-10-01T00:00:00.000000000\n",
      "WOODLANDS      176\n",
      "JURONG WEST    158\n",
      "YISHUN         144\n",
      "Name: town, dtype: int64\n",
      "2018-11-01T00:00:00.000000000\n",
      "WOODLANDS      167\n",
      "SENGKANG       156\n",
      "JURONG WEST    134\n",
      "Name: town, dtype: int64\n",
      "2018-12-01T00:00:00.000000000\n",
      "WOODLANDS    123\n",
      "SENGKANG     108\n",
      "PUNGGOL      103\n",
      "Name: town, dtype: int64\n",
      "2019-01-01T00:00:00.000000000\n",
      "WOODLANDS    143\n",
      "YISHUN       117\n",
      "SENGKANG     116\n",
      "Name: town, dtype: int64\n",
      "2019-02-01T00:00:00.000000000\n",
      "WOODLANDS      111\n",
      "JURONG WEST    104\n",
      "YISHUN          90\n",
      "Name: town, dtype: int64\n",
      "2019-03-01T00:00:00.000000000\n",
      "WOODLANDS    139\n",
      "YISHUN       117\n",
      "SENGKANG     113\n",
      "Name: town, dtype: int64\n",
      "2019-04-01T00:00:00.000000000\n",
      "WOODLANDS    151\n",
      "SENGKANG     135\n",
      "TAMPINES     134\n",
      "Name: town, dtype: int64\n",
      "2019-05-01T00:00:00.000000000\n",
      "SENGKANG       180\n",
      "JURONG WEST    172\n",
      "WOODLANDS      170\n",
      "Name: town, dtype: int64\n",
      "2019-06-01T00:00:00.000000000\n",
      "JURONG WEST    167\n",
      "SENGKANG       165\n",
      "WOODLANDS      153\n",
      "Name: town, dtype: int64\n",
      "2019-07-01T00:00:00.000000000\n",
      "JURONG WEST    199\n",
      "SENGKANG       175\n",
      "YISHUN         169\n",
      "Name: town, dtype: int64\n",
      "2019-08-01T00:00:00.000000000\n",
      "WOODLANDS    178\n",
      "YISHUN       178\n",
      "SENGKANG     175\n",
      "Name: town, dtype: int64\n",
      "2019-09-01T00:00:00.000000000\n",
      "YISHUN       161\n",
      "SENGKANG     150\n",
      "WOODLANDS    146\n",
      "Name: town, dtype: int64\n",
      "2019-10-01T00:00:00.000000000\n",
      "YISHUN         205\n",
      "SENGKANG       193\n",
      "JURONG WEST    173\n",
      "Name: town, dtype: int64\n",
      "2019-11-01T00:00:00.000000000\n",
      "SENGKANG     176\n",
      "WOODLANDS    161\n",
      "YISHUN       158\n",
      "Name: town, dtype: int64\n",
      "2019-12-01T00:00:00.000000000\n",
      "YISHUN       181\n",
      "SENGKANG     139\n",
      "WOODLANDS    134\n",
      "Name: town, dtype: int64\n",
      "2020-01-01T00:00:00.000000000\n",
      "YISHUN         180\n",
      "SENGKANG       174\n",
      "JURONG WEST    137\n",
      "Name: town, dtype: int64\n",
      "2020-02-01T00:00:00.000000000\n",
      "SENGKANG    162\n",
      "YISHUN      135\n",
      "TAMPINES    127\n",
      "Name: town, dtype: int64\n",
      "2020-03-01T00:00:00.000000000\n",
      "YISHUN       203\n",
      "SENGKANG     164\n",
      "WOODLANDS    134\n",
      "Name: town, dtype: int64\n",
      "2020-04-01T00:00:00.000000000\n",
      "YISHUN       52\n",
      "SENGKANG     42\n",
      "WOODLANDS    35\n",
      "Name: town, dtype: int64\n",
      "2020-05-01T00:00:00.000000000\n",
      "SENGKANG    39\n",
      "YISHUN      31\n",
      "PUNGGOL     28\n",
      "Name: town, dtype: int64\n",
      "2020-06-01T00:00:00.000000000\n",
      "YISHUN         195\n",
      "SENGKANG       178\n",
      "JURONG WEST    173\n",
      "Name: town, dtype: int64\n",
      "2020-07-01T00:00:00.000000000\n",
      "PUNGGOL     205\n",
      "SENGKANG    194\n",
      "YISHUN      173\n",
      "Name: town, dtype: int64\n",
      "2020-08-01T00:00:00.000000000\n",
      "SENGKANG    241\n",
      "TAMPINES    189\n",
      "PUNGGOL     185\n",
      "Name: town, dtype: int64\n"
     ]
    }
   ],
   "source": [
    "for a in df.month.unique():\n",
    "    print(a)\n",
    "    print(top_three(df,a))"
   ]
  },
  {
   "cell_type": "markdown",
   "metadata": {
    "id": "fsa0BIjfvxTk"
   },
   "source": [
    "(ii) Draw ONE (1) figure to show the median resale price in 2020 of each town."
   ]
  },
  {
   "cell_type": "code",
   "execution_count": 128,
   "metadata": {
    "colab": {
     "base_uri": "https://localhost:8080/",
     "height": 390
    },
    "id": "RKbX8zpyrh1T",
    "outputId": "10429aa8-e06f-4929-8982-42bce287beb8"
   },
   "outputs": [
    {
     "data": {
      "text/plain": [
       "<matplotlib.axes._subplots.AxesSubplot at 0x7fb21246e490>"
      ]
     },
     "execution_count": 128,
     "metadata": {
      "tags": []
     },
     "output_type": "execute_result"
    },
    {
     "data": {
      "image/png": "[encoded data removed]",
      "text/plain": [
       "<Figure size 432x288 with 1 Axes>"
      ]
     },
     "metadata": {
      "needs_background": "light",
      "tags": []
     },
     "output_type": "display_data"
    }
   ],
   "source": [
    "data_2020=df[df.month>=pd.to_datetime(\"2020-01\")]\n",
    "data_2020.groupby('town')['resale_price'].median().plot(kind=\"bar\",color=list(\"rgbmy\"))"
   ]
  },
  {
   "cell_type": "markdown",
   "metadata": {
    "id": "moMMc9uPy4YE"
   },
   "source": [
    "(iii) For the town with the greatest number of transactions in 2020, draw ONE (1)\n",
    "figure to visualize the median resale price per flat type for each month."
   ]
  },
  {
   "cell_type": "code",
   "execution_count": 149,
   "metadata": {
    "colab": {
     "base_uri": "https://localhost:8080/",
     "height": 463
    },
    "id": "H2tdZuWRvz3q",
    "outputId": "ede376cf-76bf-44fa-df46-37cdfd0262fc"
   },
   "outputs": [
    {
     "data": {
      "text/plain": [
       "<matplotlib.axes._subplots.AxesSubplot at 0x7fb212242c10>"
      ]
     },
     "execution_count": 149,
     "metadata": {
      "tags": []
     },
     "output_type": "execute_result"
    },
    {
     "data": {
      "image/png": "[encoded data removed]",
      "text/plain": [
       "<Figure size 432x288 with 1 Axes>"
      ]
     },
     "metadata": {
      "needs_background": "light",
      "tags": []
     },
     "output_type": "display_data"
    }
   ],
   "source": [
    "town_with_most_transactions=data_2020.town.value_counts().index[0]\n",
    "df3=data_2020[data_2020.town==town_with_most_transactions]\n",
    "df3.groupby([\"flat_type\",\"month\"]).median()[\"resale_price\"].plot(kind=\"bar\",color=list(\"rgmbkc\"))"
   ]
  },
  {
   "cell_type": "markdown",
   "metadata": {
    "id": "Iau025aL29xS"
   },
   "source": [
    "we cant find out correlation between storey range and resale price,as the storey range is in string format, we can get it by splitting storey range in lower and upper storey limit and then find the correlation"
   ]
  },
  {
   "cell_type": "code",
   "execution_count": 156,
   "metadata": {
    "colab": {
     "base_uri": "https://localhost:8080/",
     "height": 365
    },
    "id": "keBxQgYWzebD",
    "outputId": "da2ae740-1f40-4786-88d3-ca99d54ec682"
   },
   "outputs": [
    {
     "data": {
      "text/plain": [
       "<matplotlib.axes._subplots.AxesSubplot at 0x7fb212403450>"
      ]
     },
     "execution_count": 156,
     "metadata": {
      "tags": []
     },
     "output_type": "execute_result"
    },
    {
     "data": {
      "image/png": "[encoded data removed]",
      "text/plain": [
       "<Figure size 432x288 with 1 Axes>"
      ]
     },
     "metadata": {
      "needs_background": "light",
      "tags": []
     },
     "output_type": "display_data"
    }
   ],
   "source": [
    "list1=[]\n",
    "list2=[]\n",
    "for a in df.storey_range:\n",
    "  b=a.split(\" \")\n",
    "  list1.append(int(b[0]))\n",
    "  list2.append(int(b[-1]))\n",
    "df[\"storey_lower_limit\"]=list1\n",
    "df[\"storey_upper_limit\"]=list2\n",
    "df.loc[:,[\"storey_lower_limit\",\"storey_upper_limit\",\"resale_price\"]].corr().plot(kind=\"bar\")"
   ]
  },
  {
   "cell_type": "markdown",
   "metadata": {
    "id": "1NUMjh4B38uc"
   },
   "source": [
    "(v) Is there any correlation between the remaining lease in years and resale price?\n",
    "Draw ONE (1) figure to visualize the correlation."
   ]
  },
  {
   "cell_type": "code",
   "execution_count": 158,
   "metadata": {
    "colab": {
     "base_uri": "https://localhost:8080/",
     "height": 401
    },
    "id": "X57kBw9Xzxt5",
    "outputId": "81e2129a-3622-452d-c056-2f98fe2164bb"
   },
   "outputs": [
    {
     "data": {
      "text/plain": [
       "<matplotlib.axes._subplots.AxesSubplot at 0x7fb211d00a90>"
      ]
     },
     "execution_count": 158,
     "metadata": {
      "tags": []
     },
     "output_type": "execute_result"
    },
    {
     "data": {
      "image/png": "[encoded data removed]",
      "text/plain": [
       "<Figure size 432x288 with 1 Axes>"
      ]
     },
     "metadata": {
      "needs_background": "light",
      "tags": []
     },
     "output_type": "display_data"
    }
   ],
   "source": [
    "df.loc[:,[\"remaining_lease_in_years\",\"resale_price\"]].corr().plot(kind=\"bar\")"
   ]
  },
  {
   "cell_type": "markdown",
   "metadata": {
    "id": "PpVUxsZL4U6u"
   },
   "source": [
    "(vi) For Yishun, draw ONE (1) figure to visualize how was the median resale price\n",
    "being changed over time per flat type?"
   ]
  },
  {
   "cell_type": "code",
   "execution_count": 190,
   "metadata": {
    "colab": {
     "base_uri": "https://localhost:8080/",
     "height": 308
    },
    "id": "fdSuL1793-7g",
    "outputId": "b4f11973-354b-4bcd-9c1b-d07ea7b6b904"
   },
   "outputs": [
    {
     "data": {
      "text/plain": [
       "<matplotlib.axes._subplots.AxesSubplot at 0x7fb20fe41ad0>"
      ]
     },
     "execution_count": 190,
     "metadata": {
      "tags": []
     },
     "output_type": "execute_result"
    },
    {
     "data": {
      "image/png": "[encoded data removed]",
      "text/plain": [
       "<Figure size 432x288 with 1 Axes>"
      ]
     },
     "metadata": {
      "needs_background": "light",
      "tags": []
     },
     "output_type": "display_data"
    }
   ],
   "source": [
    "df[df.town==\"YISHUN\"].groupby([\"flat_type\",\"month\"]).median()[\"resale_price\"].unstack().T.plot()"
   ]
  },
  {
   "cell_type": "markdown",
   "metadata": {
    "id": "HvifuHZz65_c"
   },
   "source": [
    "some lines are broken because of the missing data"
   ]
  },
  {
   "cell_type": "code",
   "execution_count": null,
   "metadata": {
    "id": "J0YIb1qw6-ia"
   },
   "outputs": [],
   "source": []
  }
 ],
 "metadata": {
  "colab": {
   "collapsed_sections": [],
   "name": "Project 1-2.ipynb",
   "provenance": []
  },
  "kernelspec": {
   "display_name": "Python 3",
   "language": "python",
   "name": "python3"
  },
  "language_info": {
   "codemirror_mode": {
    "name": "ipython",
    "version": 3
   },
   "file_extension": ".py",
   "mimetype": "text/x-python",
   "name": "python",
   "nbconvert_exporter": "python",
   "pygments_lexer": "ipython3",
   "version": "3.8.5"
  }
 },
 "nbformat": 4,
 "nbformat_minor": 1
}
