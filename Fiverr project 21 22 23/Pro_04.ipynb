{
  "nbformat": 4,
  "nbformat_minor": 0,
  "metadata": {
    "colab": {
      "name": "Pro #04.ipynb",
      "provenance": [],
      "collapsed_sections": []
    },
    "kernelspec": {
      "name": "python3",
      "display_name": "Python 3"
    }
  },
  "cells": [
    {
      "cell_type": "code",
      "metadata": {
        "id": "LUb2ju1jAUxY"
      },
      "source": [
        "import numpy as np\r\n",
        "import pandas as pd\r\n",
        "import matplotlib.pyplot as plt"
      ],
      "execution_count": null,
      "outputs": []
    },
    {
      "cell_type": "markdown",
      "metadata": {
        "id": "0BB47sdSC6Z6"
      },
      "source": [
        "(i) Load the .csv file into the notebook."
      ]
    },
    {
      "cell_type": "code",
      "metadata": {
        "id": "4eSYQgPrAu3k"
      },
      "source": [
        "df=pd.read_csv(\"https://raw.githubusercontent.com/DataTensor/hdb/main/resale-flat-prices.csv\")"
      ],
      "execution_count": null,
      "outputs": []
    },
    {
      "cell_type": "code",
      "metadata": {
        "id": "Y-gNTQ49A7VU",
        "colab": {
          "base_uri": "https://localhost:8080/",
          "height": 206
        },
        "outputId": "bc498d8f-b4d5-4365-ff8d-f455c4a30ee1"
      },
      "source": [
        "df.sample(3)"
      ],
      "execution_count": null,
      "outputs": [
        {
          "output_type": "execute_result",
          "data": {
            "text/html": [
              "<div>\n",
              "<style scoped>\n",
              "    .dataframe tbody tr th:only-of-type {\n",
              "        vertical-align: middle;\n",
              "    }\n",
              "\n",
              "    .dataframe tbody tr th {\n",
              "        vertical-align: top;\n",
              "    }\n",
              "\n",
              "    .dataframe thead th {\n",
              "        text-align: right;\n",
              "    }\n",
              "</style>\n",
              "<table border=\"1\" class=\"dataframe\">\n",
              "  <thead>\n",
              "    <tr style=\"text-align: right;\">\n",
              "      <th></th>\n",
              "      <th>transaction_id</th>\n",
              "      <th>month</th>\n",
              "      <th>town</th>\n",
              "      <th>flat_type</th>\n",
              "      <th>block</th>\n",
              "      <th>street_name</th>\n",
              "      <th>storey_range</th>\n",
              "      <th>floor_area_sqm</th>\n",
              "      <th>flat_model</th>\n",
              "      <th>lease_commence_date</th>\n",
              "      <th>resale_price</th>\n",
              "    </tr>\n",
              "  </thead>\n",
              "  <tbody>\n",
              "    <tr>\n",
              "      <th>30575</th>\n",
              "      <td>30575</td>\n",
              "      <td>2018-07</td>\n",
              "      <td>BUKIT BATOK</td>\n",
              "      <td>EXECUTIVE</td>\n",
              "      <td>404</td>\n",
              "      <td>BT BATOK WEST AVE 7</td>\n",
              "      <td>04 TO 06</td>\n",
              "      <td>154.0</td>\n",
              "      <td>Apartment</td>\n",
              "      <td>1993</td>\n",
              "      <td>520000.0</td>\n",
              "    </tr>\n",
              "    <tr>\n",
              "      <th>61342</th>\n",
              "      <td>61342</td>\n",
              "      <td>2019-11</td>\n",
              "      <td>KALLANG/WHAMPOA</td>\n",
              "      <td>3 ROOM</td>\n",
              "      <td>39</td>\n",
              "      <td>JLN BAHAGIA</td>\n",
              "      <td>01 TO 03</td>\n",
              "      <td>83.0</td>\n",
              "      <td>Terrace</td>\n",
              "      <td>1972</td>\n",
              "      <td>705000.0</td>\n",
              "    </tr>\n",
              "    <tr>\n",
              "      <th>45982</th>\n",
              "      <td>45982</td>\n",
              "      <td>2019-03</td>\n",
              "      <td>QUEENSTOWN</td>\n",
              "      <td>4 ROOM</td>\n",
              "      <td>89</td>\n",
              "      <td>TANGLIN HALT RD</td>\n",
              "      <td>10 TO 12</td>\n",
              "      <td>90.0</td>\n",
              "      <td>Model A</td>\n",
              "      <td>2008</td>\n",
              "      <td>720000.0</td>\n",
              "    </tr>\n",
              "  </tbody>\n",
              "</table>\n",
              "</div>"
            ],
            "text/plain": [
              "       transaction_id    month  ... lease_commence_date resale_price\n",
              "30575           30575  2018-07  ...                1993     520000.0\n",
              "61342           61342  2019-11  ...                1972     705000.0\n",
              "45982           45982  2019-03  ...                2008     720000.0\n",
              "\n",
              "[3 rows x 11 columns]"
            ]
          },
          "metadata": {
            "tags": []
          },
          "execution_count": 76
        }
      ]
    },
    {
      "cell_type": "markdown",
      "metadata": {
        "id": "tLz1hA_8DGS-"
      },
      "source": [
        "(ii) Summarize the information that can be derived from the dataset, including key\r\n",
        "features (columns), range of values, and missing / non-useful values. All the\r\n",
        "information should be derived by necessary Python codes."
      ]
    },
    {
      "cell_type": "code",
      "metadata": {
        "colab": {
          "base_uri": "https://localhost:8080/"
        },
        "id": "LUUdKKdXBoWh",
        "outputId": "c219cf70-2bcd-4fd1-aac4-2b643288e31a"
      },
      "source": [
        "df.columns"
      ],
      "execution_count": null,
      "outputs": [
        {
          "output_type": "execute_result",
          "data": {
            "text/plain": [
              "Index(['transaction_id', 'month', 'town', 'flat_type', 'block', 'street_name',\n",
              "       'storey_range', 'floor_area_sqm', 'flat_model', 'lease_commence_date',\n",
              "       'resale_price'],\n",
              "      dtype='object')"
            ]
          },
          "metadata": {
            "tags": []
          },
          "execution_count": 77
        }
      ]
    },
    {
      "cell_type": "code",
      "metadata": {
        "colab": {
          "base_uri": "https://localhost:8080/",
          "height": 284
        },
        "id": "pL2nj8epDPmW",
        "outputId": "74e35ebd-26ca-4209-fe17-542c62b821b2"
      },
      "source": [
        "df.describe()"
      ],
      "execution_count": null,
      "outputs": [
        {
          "output_type": "execute_result",
          "data": {
            "text/html": [
              "<div>\n",
              "<style scoped>\n",
              "    .dataframe tbody tr th:only-of-type {\n",
              "        vertical-align: middle;\n",
              "    }\n",
              "\n",
              "    .dataframe tbody tr th {\n",
              "        vertical-align: top;\n",
              "    }\n",
              "\n",
              "    .dataframe thead th {\n",
              "        text-align: right;\n",
              "    }\n",
              "</style>\n",
              "<table border=\"1\" class=\"dataframe\">\n",
              "  <thead>\n",
              "    <tr style=\"text-align: right;\">\n",
              "      <th></th>\n",
              "      <th>transaction_id</th>\n",
              "      <th>floor_area_sqm</th>\n",
              "      <th>lease_commence_date</th>\n",
              "      <th>resale_price</th>\n",
              "    </tr>\n",
              "  </thead>\n",
              "  <tbody>\n",
              "    <tr>\n",
              "      <th>count</th>\n",
              "      <td>77895.000000</td>\n",
              "      <td>77895.000000</td>\n",
              "      <td>77895.000000</td>\n",
              "      <td>7.789500e+04</td>\n",
              "    </tr>\n",
              "    <tr>\n",
              "      <th>mean</th>\n",
              "      <td>38947.000000</td>\n",
              "      <td>97.612341</td>\n",
              "      <td>1994.039155</td>\n",
              "      <td>4.386677e+05</td>\n",
              "    </tr>\n",
              "    <tr>\n",
              "      <th>std</th>\n",
              "      <td>22486.493946</td>\n",
              "      <td>24.295162</td>\n",
              "      <td>12.783561</td>\n",
              "      <td>1.532126e+05</td>\n",
              "    </tr>\n",
              "    <tr>\n",
              "      <th>min</th>\n",
              "      <td>0.000000</td>\n",
              "      <td>31.000000</td>\n",
              "      <td>1966.000000</td>\n",
              "      <td>1.400000e+05</td>\n",
              "    </tr>\n",
              "    <tr>\n",
              "      <th>25%</th>\n",
              "      <td>19473.500000</td>\n",
              "      <td>82.000000</td>\n",
              "      <td>1984.000000</td>\n",
              "      <td>3.300000e+05</td>\n",
              "    </tr>\n",
              "    <tr>\n",
              "      <th>50%</th>\n",
              "      <td>38947.000000</td>\n",
              "      <td>95.000000</td>\n",
              "      <td>1994.000000</td>\n",
              "      <td>4.080000e+05</td>\n",
              "    </tr>\n",
              "    <tr>\n",
              "      <th>75%</th>\n",
              "      <td>58420.500000</td>\n",
              "      <td>113.000000</td>\n",
              "      <td>2003.000000</td>\n",
              "      <td>5.130000e+05</td>\n",
              "    </tr>\n",
              "    <tr>\n",
              "      <th>max</th>\n",
              "      <td>77894.000000</td>\n",
              "      <td>249.000000</td>\n",
              "      <td>2019.000000</td>\n",
              "      <td>1.232000e+06</td>\n",
              "    </tr>\n",
              "  </tbody>\n",
              "</table>\n",
              "</div>"
            ],
            "text/plain": [
              "       transaction_id  floor_area_sqm  lease_commence_date  resale_price\n",
              "count    77895.000000    77895.000000         77895.000000  7.789500e+04\n",
              "mean     38947.000000       97.612341          1994.039155  4.386677e+05\n",
              "std      22486.493946       24.295162            12.783561  1.532126e+05\n",
              "min          0.000000       31.000000          1966.000000  1.400000e+05\n",
              "25%      19473.500000       82.000000          1984.000000  3.300000e+05\n",
              "50%      38947.000000       95.000000          1994.000000  4.080000e+05\n",
              "75%      58420.500000      113.000000          2003.000000  5.130000e+05\n",
              "max      77894.000000      249.000000          2019.000000  1.232000e+06"
            ]
          },
          "metadata": {
            "tags": []
          },
          "execution_count": 78
        }
      ]
    },
    {
      "cell_type": "code",
      "metadata": {
        "colab": {
          "base_uri": "https://localhost:8080/"
        },
        "id": "nDTEUOnRDwm9",
        "outputId": "dec7fae5-6e89-4fdb-93ab-5cfe2c00a994"
      },
      "source": [
        "df.info()"
      ],
      "execution_count": null,
      "outputs": [
        {
          "output_type": "stream",
          "text": [
            "<class 'pandas.core.frame.DataFrame'>\n",
            "RangeIndex: 77895 entries, 0 to 77894\n",
            "Data columns (total 11 columns):\n",
            " #   Column               Non-Null Count  Dtype  \n",
            "---  ------               --------------  -----  \n",
            " 0   transaction_id       77895 non-null  int64  \n",
            " 1   month                77895 non-null  object \n",
            " 2   town                 77895 non-null  object \n",
            " 3   flat_type            77817 non-null  object \n",
            " 4   block                77895 non-null  object \n",
            " 5   street_name          77895 non-null  object \n",
            " 6   storey_range         77739 non-null  object \n",
            " 7   floor_area_sqm       77895 non-null  float64\n",
            " 8   flat_model           77895 non-null  object \n",
            " 9   lease_commence_date  77895 non-null  int64  \n",
            " 10  resale_price         77895 non-null  float64\n",
            "dtypes: float64(2), int64(2), object(7)\n",
            "memory usage: 6.5+ MB\n"
          ],
          "name": "stdout"
        }
      ]
    },
    {
      "cell_type": "code",
      "metadata": {
        "colab": {
          "base_uri": "https://localhost:8080/"
        },
        "id": "F-SDu4rGDXLF",
        "outputId": "4d2f6fce-d8e8-4889-b32d-fafe75670939"
      },
      "source": [
        "df.isna().sum()# sum of missing values in each column"
      ],
      "execution_count": null,
      "outputs": [
        {
          "output_type": "execute_result",
          "data": {
            "text/plain": [
              "transaction_id           0\n",
              "month                    0\n",
              "town                     0\n",
              "flat_type               78\n",
              "block                    0\n",
              "street_name              0\n",
              "storey_range           156\n",
              "floor_area_sqm           0\n",
              "flat_model               0\n",
              "lease_commence_date      0\n",
              "resale_price             0\n",
              "dtype: int64"
            ]
          },
          "metadata": {
            "tags": []
          },
          "execution_count": 80
        }
      ]
    },
    {
      "cell_type": "code",
      "metadata": {
        "colab": {
          "base_uri": "https://localhost:8080/"
        },
        "id": "QDMFH1rnD26v",
        "outputId": "6025f67c-6015-4a2d-db8d-75fb6338c731"
      },
      "source": [
        "df.dtypes"
      ],
      "execution_count": null,
      "outputs": [
        {
          "output_type": "execute_result",
          "data": {
            "text/plain": [
              "transaction_id           int64\n",
              "month                   object\n",
              "town                    object\n",
              "flat_type               object\n",
              "block                   object\n",
              "street_name             object\n",
              "storey_range            object\n",
              "floor_area_sqm         float64\n",
              "flat_model              object\n",
              "lease_commence_date      int64\n",
              "resale_price           float64\n",
              "dtype: object"
            ]
          },
          "metadata": {
            "tags": []
          },
          "execution_count": 81
        }
      ]
    },
    {
      "cell_type": "code",
      "metadata": {
        "colab": {
          "base_uri": "https://localhost:8080/"
        },
        "id": "a2MmluqKFgAa",
        "outputId": "ccac2d35-31d9-4588-beeb-a00bc79380b1"
      },
      "source": [
        "df.shape"
      ],
      "execution_count": null,
      "outputs": [
        {
          "output_type": "execute_result",
          "data": {
            "text/plain": [
              "(77895, 11)"
            ]
          },
          "metadata": {
            "tags": []
          },
          "execution_count": 82
        }
      ]
    },
    {
      "cell_type": "markdown",
      "metadata": {
        "id": "cByXfYSHDtu1"
      },
      "source": [
        "(iii) Explain TWO (2) potential insights that can be derived from the dataset."
      ]
    },
    {
      "cell_type": "code",
      "metadata": {
        "colab": {
          "base_uri": "https://localhost:8080/",
          "height": 297
        },
        "id": "8YssVZBmDdQ6",
        "outputId": "7830eddb-0cd5-476a-87d7-6cadabdb7304"
      },
      "source": [
        "df.groupby(\"lease_commence_date\").mean()[\"resale_price\"].plot()"
      ],
      "execution_count": null,
      "outputs": [
        {
          "output_type": "execute_result",
          "data": {
            "text/plain": [
              "<matplotlib.axes._subplots.AxesSubplot at 0x7fb2127c1090>"
            ]
          },
          "metadata": {
            "tags": []
          },
          "execution_count": 83
        },
        {
          "output_type": "display_data",
          "data": {
            "image/png": "[encoded data removed]",
            "text/plain": [
              "<Figure size 432x288 with 1 Axes>"
            ]
          },
          "metadata": {
            "tags": [],
            "needs_background": "light"
          }
        }
      ]
    },
    {
      "cell_type": "code",
      "metadata": {
        "colab": {
          "base_uri": "https://localhost:8080/"
        },
        "id": "yOZewdqqEwQH",
        "outputId": "6e3bccce-8742-4219-8af2-f68a24a3f0d0"
      },
      "source": [
        "df.groupby(\"flat_model\").mean()[\"resale_price\"]"
      ],
      "execution_count": null,
      "outputs": [
        {
          "output_type": "execute_result",
          "data": {
            "text/plain": [
              "flat_model\n",
              "2-room                    2.295000e+05\n",
              "Adjoined flat             6.745290e+05\n",
              "Apartment                 6.087442e+05\n",
              "DBSS                      7.638527e+05\n",
              "Improved                  4.502800e+05\n",
              "Improved-Maisonette       6.804920e+05\n",
              "Maisonette                6.704365e+05\n",
              "Model A                   4.223038e+05\n",
              "Model A-Maisonette        7.004836e+05\n",
              "Model A2                  3.424281e+05\n",
              "Multi Generation          8.035586e+05\n",
              "New Generation            3.294380e+05\n",
              "Premium Apartment         4.615875e+05\n",
              "Premium Apartment Loft    8.775277e+05\n",
              "Premium Maisonette        7.465000e+05\n",
              "Simplified                3.390103e+05\n",
              "Standard                  3.927329e+05\n",
              "Terrace                   8.075762e+05\n",
              "Type S1                   9.252694e+05\n",
              "Type S2                   1.027543e+06\n",
              "Name: resale_price, dtype: float64"
            ]
          },
          "metadata": {
            "tags": []
          },
          "execution_count": 84
        }
      ]
    },
    {
      "cell_type": "markdown",
      "metadata": {
        "id": "s8rwXpSxFUZf"
      },
      "source": [
        "(i) Refer to Q1(a)(ii), remove all the data rows with missing data values."
      ]
    },
    {
      "cell_type": "code",
      "metadata": {
        "colab": {
          "base_uri": "https://localhost:8080/"
        },
        "id": "cMc35CeQFGFo",
        "outputId": "9f99df08-e410-4637-8df4-bed97cda234c"
      },
      "source": [
        "df.dropna(inplace=True)\r\n",
        "df.shape"
      ],
      "execution_count": null,
      "outputs": [
        {
          "output_type": "execute_result",
          "data": {
            "text/plain": [
              "(77661, 11)"
            ]
          },
          "metadata": {
            "tags": []
          },
          "execution_count": 85
        }
      ]
    },
    {
      "cell_type": "markdown",
      "metadata": {
        "id": "f7YC7ZRNFpAX"
      },
      "source": [
        "(ii) In Singapore, HDB flats have a 99 years’ leasehold. Compute the remaining\r\n",
        "lease in years for each transacted flat on its transacted date."
      ]
    },
    {
      "cell_type": "code",
      "metadata": {
        "id": "3josDrleFaun"
      },
      "source": [
        "remaining_lease_in_years = 99-(2021-df[\"lease_commence_date\"])"
      ],
      "execution_count": null,
      "outputs": []
    },
    {
      "cell_type": "code",
      "metadata": {
        "colab": {
          "base_uri": "https://localhost:8080/"
        },
        "id": "RJT0IrkQJ0Sj",
        "outputId": "6858354c-da56-475b-f2df-de02d0913a0b"
      },
      "source": [
        "remaining_lease_in_years"
      ],
      "execution_count": null,
      "outputs": [
        {
          "output_type": "execute_result",
          "data": {
            "text/plain": [
              "0        57\n",
              "1        56\n",
              "2        58\n",
              "3        58\n",
              "4        58\n",
              "         ..\n",
              "77889    63\n",
              "77890    65\n",
              "77891    65\n",
              "77892    64\n",
              "77894    65\n",
              "Name: lease_commence_date, Length: 77661, dtype: int64"
            ]
          },
          "metadata": {
            "tags": []
          },
          "execution_count": 87
        }
      ]
    },
    {
      "cell_type": "code",
      "metadata": {
        "id": "Z-DMD6obKADM"
      },
      "source": [
        "df[\"remaining_lease_in_years\"] = remaining_lease_in_years"
      ],
      "execution_count": null,
      "outputs": []
    },
    {
      "cell_type": "markdown",
      "metadata": {
        "id": "AlrlnXCcMdbj"
      },
      "source": [
        "(iii) List out the top ten of remaining lease in years (computed by Q1(b)(ii) having\r\n",
        "the greatest number of transacted flats."
      ]
    },
    {
      "cell_type": "code",
      "metadata": {
        "colab": {
          "base_uri": "https://localhost:8080/"
        },
        "id": "Jw-SB_feKRmo",
        "outputId": "d624df99-d762-491a-e1a6-17f12bd30569"
      },
      "source": [
        "df.groupby(\"remaining_lease_in_years\").count().sort_values(by=\"street_name\",ascending=False).head(10).index"
      ],
      "execution_count": null,
      "outputs": [
        {
          "output_type": "execute_result",
          "data": {
            "text/plain": [
              "Int64Index([63, 93, 62, 66, 91, 79, 75, 65, 76, 81], dtype='int64', name='remaining_lease_in_years')"
            ]
          },
          "metadata": {
            "tags": []
          },
          "execution_count": 89
        }
      ]
    },
    {
      "cell_type": "code",
      "metadata": {
        "id": "65F7YznhLW9C"
      },
      "source": [
        "df.to_csv(\"Cleaned.csv\")"
      ],
      "execution_count": null,
      "outputs": []
    },
    {
      "cell_type": "code",
      "metadata": {
        "colab": {
          "base_uri": "https://localhost:8080/",
          "height": 147
        },
        "id": "LyCcBAtW93OX",
        "outputId": "fbe24716-2ebf-4fb0-e459-c88b99ab0215"
      },
      "source": [
        "df.head(1)"
      ],
      "execution_count": null,
      "outputs": [
        {
          "output_type": "execute_result",
          "data": {
            "text/html": [
              "<div>\n",
              "<style scoped>\n",
              "    .dataframe tbody tr th:only-of-type {\n",
              "        vertical-align: middle;\n",
              "    }\n",
              "\n",
              "    .dataframe tbody tr th {\n",
              "        vertical-align: top;\n",
              "    }\n",
              "\n",
              "    .dataframe thead th {\n",
              "        text-align: right;\n",
              "    }\n",
              "</style>\n",
              "<table border=\"1\" class=\"dataframe\">\n",
              "  <thead>\n",
              "    <tr style=\"text-align: right;\">\n",
              "      <th></th>\n",
              "      <th>Unnamed: 0</th>\n",
              "      <th>transaction_id</th>\n",
              "      <th>month</th>\n",
              "      <th>town</th>\n",
              "      <th>flat_type</th>\n",
              "      <th>block</th>\n",
              "      <th>street_name</th>\n",
              "      <th>storey_range</th>\n",
              "      <th>floor_area_sqm</th>\n",
              "      <th>flat_model</th>\n",
              "      <th>lease_commence_date</th>\n",
              "      <th>resale_price</th>\n",
              "      <th>remaining_lease_in_years</th>\n",
              "      <th>storey_lower_limit</th>\n",
              "      <th>storey_upper_limit</th>\n",
              "    </tr>\n",
              "  </thead>\n",
              "  <tbody>\n",
              "    <tr>\n",
              "      <th>0</th>\n",
              "      <td>0</td>\n",
              "      <td>0</td>\n",
              "      <td>2017-01-01</td>\n",
              "      <td>ANG MO KIO</td>\n",
              "      <td>2 ROOM</td>\n",
              "      <td>406</td>\n",
              "      <td>ANG MO KIO AVE 10</td>\n",
              "      <td>10 TO 12</td>\n",
              "      <td>44.0</td>\n",
              "      <td>Improved</td>\n",
              "      <td>1979</td>\n",
              "      <td>232000.0</td>\n",
              "      <td>57</td>\n",
              "      <td>10</td>\n",
              "      <td>12</td>\n",
              "    </tr>\n",
              "  </tbody>\n",
              "</table>\n",
              "</div>"
            ],
            "text/plain": [
              "   Unnamed: 0  transaction_id  ... storey_lower_limit storey_upper_limit\n",
              "0           0               0  ...                 10                 12\n",
              "\n",
              "[1 rows x 15 columns]"
            ]
          },
          "metadata": {
            "tags": []
          },
          "execution_count": 192
        }
      ]
    }
  ]
}