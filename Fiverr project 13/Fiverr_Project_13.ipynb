{
  "nbformat": 4,
  "nbformat_minor": 0,
  "metadata": {
    "colab": {
      "provenance": [],
      "collapsed_sections": []
    },
    "kernelspec": {
      "name": "python3",
      "display_name": "Python 3"
    }
  },
  "cells": [
    {
      "cell_type": "code",
      "metadata": {
        "id": "fqV4JJloGkqi"
      },
      "source": [
        "import pandas as pd"
      ],
      "execution_count": null,
      "outputs": []
    },
    {
      "cell_type": "code",
      "metadata": {
        "id": "B5yHA9_UG_Z0"
      },
      "source": [
        "df=pd.read_excel(\"Crowdfunding_data_1000_projects (2).xlsx\")"
      ],
      "execution_count": null,
      "outputs": []
    },
    {
      "cell_type": "markdown",
      "metadata": {
        "id": "BbxPPltEKH6p"
      },
      "source": [
        "1. Use Pandas functions head() and tail(), and create two data-frames with top 70 % records in the first data-frame, and remaining 30% records in the second data-frame (2 points)."
      ]
    },
    {
      "cell_type": "code",
      "metadata": {
        "id": "nMhxNlKiHHmm"
      },
      "source": [
        "df1=df.head(700)"
      ],
      "execution_count": null,
      "outputs": []
    },
    {
      "cell_type": "code",
      "metadata": {
        "id": "UMjhWDkTHMMQ"
      },
      "source": [
        "df2=df.tail(300)"
      ],
      "execution_count": null,
      "outputs": []
    },
    {
      "cell_type": "code",
      "metadata": {
        "colab": {
          "base_uri": "https://localhost:8080/"
        },
        "id": "KAeS7qu3K5Vd",
        "outputId": "4358fb8e-cd0e-4584-8727-8df555341f0e"
      },
      "source": [
        "print(\"Train : \",len(df1))\n",
        "print(\"Test  : \",len(df2))"
      ],
      "execution_count": null,
      "outputs": [
        {
          "output_type": "stream",
          "text": [
            "Train :  700\n",
            "Test  :  300\n"
          ],
          "name": "stdout"
        }
      ]
    },
    {
      "cell_type": "markdown",
      "metadata": {
        "id": "FsyGIhnqKdh_"
      },
      "source": [
        "2. Use Pandas functions sample() and drop(), and create two data-frames with random 70% of records in the first data-frame and remaining 30% of records in the second data-frame (4 points)."
      ]
    },
    {
      "cell_type": "code",
      "metadata": {
        "id": "JGqFcBQ3HS2t"
      },
      "source": [
        "df3=df.sample(700)"
      ],
      "execution_count": null,
      "outputs": []
    },
    {
      "cell_type": "code",
      "metadata": {
        "id": "4S6qXBrKHXpx"
      },
      "source": [
        "df4=df.drop(index=df3.index)"
      ],
      "execution_count": null,
      "outputs": []
    },
    {
      "cell_type": "code",
      "metadata": {
        "colab": {
          "base_uri": "https://localhost:8080/"
        },
        "id": "tN0V1Id-LIpA",
        "outputId": "0fae9ae4-8eec-4179-edc2-14ddd8945503"
      },
      "source": [
        "print(\"Train : \",len(df3))\n",
        "print(\"Test  : \",len(df4))"
      ],
      "execution_count": null,
      "outputs": [
        {
          "output_type": "stream",
          "text": [
            "Train :  700\n",
            "Test  :  300\n"
          ],
          "name": "stdout"
        }
      ]
    },
    {
      "cell_type": "markdown",
      "metadata": {
        "id": "MZWtDLsYKmFW"
      },
      "source": [
        "3. Use Scikit-learn package and create two data-frames with random 70% of records in the train data-frame and remaining 30% of records in test data-frame (4 points)."
      ]
    },
    {
      "cell_type": "code",
      "metadata": {
        "id": "H-c46w2FIicq"
      },
      "source": [
        "from sklearn.model_selection import train_test_split"
      ],
      "execution_count": null,
      "outputs": []
    },
    {
      "cell_type": "code",
      "metadata": {
        "id": "OKSFfo8CJMkL"
      },
      "source": [
        "df5,df6=train_test_split(df,test_size=0.3)"
      ],
      "execution_count": null,
      "outputs": []
    },
    {
      "cell_type": "code",
      "metadata": {
        "colab": {
          "base_uri": "https://localhost:8080/"
        },
        "id": "cxHverBTKw7Y",
        "outputId": "008bc01f-b376-46b0-fa9b-562b407640e9"
      },
      "source": [
        "print(\"Train : \",len(df5))\n",
        "print(\"Test  : \",len(df6))"
      ],
      "execution_count": null,
      "outputs": [
        {
          "output_type": "stream",
          "text": [
            "Train :  700\n",
            "Test  :  300\n"
          ],
          "name": "stdout"
        }
      ]
    },
    {
      "cell_type": "code",
      "metadata": {
        "id": "0gq66wCmLObq"
      },
      "source": [],
      "execution_count": null,
      "outputs": []
    }
  ]
}